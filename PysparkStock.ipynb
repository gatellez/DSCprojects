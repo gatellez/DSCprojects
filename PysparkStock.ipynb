{
  "nbformat": 4,
  "nbformat_minor": 0,
  "metadata": {
    "colab": {
      "provenance": []
    },
    "kernelspec": {
      "name": "python3",
      "display_name": "Python 3"
    },
    "language_info": {
      "name": "python"
    }
  },
  "cells": [
    {
      "cell_type": "markdown",
      "source": [
        "# Pyspark Stocks\n",
        "## Adrián Téllez"
      ],
      "metadata": {
        "id": "p9i8J76gBnJx"
      }
    },
    {
      "cell_type": "code",
      "source": [
        "!pip install pyspark\n",
        "!pip install yfinance"
      ],
      "metadata": {
        "colab": {
          "base_uri": "https://localhost:8080/"
        },
        "id": "1iAwb9Gm1CKZ",
        "outputId": "b092f132-dab2-4749-d258-c108fdb06812"
      },
      "execution_count": null,
      "outputs": [
        {
          "output_type": "stream",
          "name": "stdout",
          "text": [
            "Looking in indexes: https://pypi.org/simple, https://us-python.pkg.dev/colab-wheels/public/simple/\n",
            "Requirement already satisfied: pyspark in /usr/local/lib/python3.8/dist-packages (3.3.1)\n",
            "Requirement already satisfied: py4j==0.10.9.5 in /usr/local/lib/python3.8/dist-packages (from pyspark) (0.10.9.5)\n",
            "Looking in indexes: https://pypi.org/simple, https://us-python.pkg.dev/colab-wheels/public/simple/\n",
            "Requirement already satisfied: yfinance in /usr/local/lib/python3.8/dist-packages (0.1.90)\n",
            "Requirement already satisfied: pandas>=1.3.0 in /usr/local/lib/python3.8/dist-packages (from yfinance) (1.3.5)\n",
            "Requirement already satisfied: numpy>=1.16.5 in /usr/local/lib/python3.8/dist-packages (from yfinance) (1.21.6)\n",
            "Requirement already satisfied: lxml>=4.9.1 in /usr/local/lib/python3.8/dist-packages (from yfinance) (4.9.1)\n",
            "Requirement already satisfied: appdirs>=1.4.4 in /usr/local/lib/python3.8/dist-packages (from yfinance) (1.4.4)\n",
            "Requirement already satisfied: multitasking>=0.0.7 in /usr/local/lib/python3.8/dist-packages (from yfinance) (0.0.11)\n",
            "Requirement already satisfied: requests>=2.26 in /usr/local/lib/python3.8/dist-packages (from yfinance) (2.28.1)\n",
            "Requirement already satisfied: python-dateutil>=2.7.3 in /usr/local/lib/python3.8/dist-packages (from pandas>=1.3.0->yfinance) (2.8.2)\n",
            "Requirement already satisfied: pytz>=2017.3 in /usr/local/lib/python3.8/dist-packages (from pandas>=1.3.0->yfinance) (2022.6)\n",
            "Requirement already satisfied: six>=1.5 in /usr/local/lib/python3.8/dist-packages (from python-dateutil>=2.7.3->pandas>=1.3.0->yfinance) (1.15.0)\n",
            "Requirement already satisfied: certifi>=2017.4.17 in /usr/local/lib/python3.8/dist-packages (from requests>=2.26->yfinance) (2022.9.24)\n",
            "Requirement already satisfied: idna<4,>=2.5 in /usr/local/lib/python3.8/dist-packages (from requests>=2.26->yfinance) (2.10)\n",
            "Requirement already satisfied: urllib3<1.27,>=1.21.1 in /usr/local/lib/python3.8/dist-packages (from requests>=2.26->yfinance) (1.24.3)\n",
            "Requirement already satisfied: charset-normalizer<3,>=2 in /usr/local/lib/python3.8/dist-packages (from requests>=2.26->yfinance) (2.1.1)\n"
          ]
        }
      ]
    },
    {
      "cell_type": "code",
      "execution_count": null,
      "metadata": {
        "id": "4vrxv5kzwjC1"
      },
      "outputs": [],
      "source": [
        "\n",
        "# Importar librerías necesarias\n",
        "from pyspark.sql import SparkSession\n",
        "from pyspark.ml.regression import LinearRegression\n",
        "import pandas as pd\n",
        "import yfinance as yf\n",
        "from pyspark.ml.evaluation import RegressionEvaluator\n",
        "from pyspark.ml.feature import VectorAssembler\n"
      ]
    },
    {
      "cell_type": "code",
      "source": [
        "spark = SparkSession.builder.appName('stock_prediction').getOrCreate()"
      ],
      "metadata": {
        "id": "2OlnslYCxLzd"
      },
      "execution_count": null,
      "outputs": []
    },
    {
      "cell_type": "code",
      "source": [
        "\n",
        "def precios_acciones(stock_sym):\n",
        "  # Cargar dataset de acciones en un DataFrame de Pandas\n",
        "  print(f'Vamos a realizar proyecciones sobre el precio de la acción de {stock_sym}')\n",
        "  getInfo = yf.Ticker(stock_sym, )\n",
        "  df = getInfo.history(period=\"max\")\n",
        "  # Convertir DataFrame de Pandas a un DataFrame de PySpark\n",
        "  df.info()\n",
        "  df = spark.createDataFrame(df)\n",
        "  feature_cols = df.drop(\"Close\").columns\n",
        "  assembler = VectorAssembler(inputCols = feature_cols,\n",
        "                            outputCol = \"features\")\n",
        "  df = assembler.transform(df)\n",
        "  df = df.select(\"Close\", \"features\")\n",
        "  train, test = df.randomSplit([0.7, 0.3])\n",
        "  lr = LinearRegression(labelCol=\"Close\", featuresCol=\"features\")\n",
        "  model = lr.fit(train)\n",
        "  predictions = model.transform(test)\n",
        "  evaluator = RegressionEvaluator(labelCol=\"Close\")\n",
        "  mse = evaluator.evaluate(predictions, {evaluator.metricName: \"mse\"})\n",
        "  r2 = evaluator.evaluate(predictions, {evaluator.metricName: \"r2\"})\n",
        "  print(f'Mean Squared Error (MSE) = {mse:.3f}')\n",
        "  print(f'Coefficient of Determination (R2) = {r2:.3f}')\n",
        "  return predictions.show()\n",
        "\n",
        "\n",
        "\n",
        "\n",
        "\n",
        "\n"
      ],
      "metadata": {
        "id": "5Tqy2vf-xfTS"
      },
      "execution_count": null,
      "outputs": []
    },
    {
      "cell_type": "code",
      "source": [
        "precios_acciones(\"MSFT\")\n"
      ],
      "metadata": {
        "colab": {
          "base_uri": "https://localhost:8080/"
        },
        "id": "i-ItDHNGxx0T",
        "outputId": "cb592446-e4bf-45f0-906e-ea4620000072"
      },
      "execution_count": null,
      "outputs": [
        {
          "output_type": "stream",
          "name": "stdout",
          "text": [
            "Vamos a realizar proyecciones sobre el precio de la acción de MSFT\n",
            "<class 'pandas.core.frame.DataFrame'>\n",
            "DatetimeIndex: 9266 entries, 1986-03-13 00:00:00-05:00 to 2022-12-14 00:00:00-05:00\n",
            "Data columns (total 7 columns):\n",
            " #   Column        Non-Null Count  Dtype  \n",
            "---  ------        --------------  -----  \n",
            " 0   Open          9266 non-null   float64\n",
            " 1   High          9266 non-null   float64\n",
            " 2   Low           9266 non-null   float64\n",
            " 3   Close         9266 non-null   float64\n",
            " 4   Volume        9266 non-null   int64  \n",
            " 5   Dividends     9266 non-null   float64\n",
            " 6   Stock Splits  9266 non-null   float64\n",
            "dtypes: float64(6), int64(1)\n",
            "memory usage: 837.2 KB\n",
            "Mean Squared Error (MSE) = 0.327\n",
            "Coefficient of Determination (R2) = 1.000\n",
            "+--------------------+--------------------+--------------------+\n",
            "|               Close|            features|          prediction|\n",
            "+--------------------+--------------------+--------------------+\n",
            "| 0.05755116418004036|[0.05646536384981...|0.062122309665051376|\n",
            "|0.059722766280174255|[0.06026566645837...| 0.07029338122462832|\n",
            "|0.059722766280174255|[0.06135146681477...| 0.05977956984199237|\n",
            "| 0.06026564538478851|[0.05917984540806...| 0.06814321675883922|\n",
            "| 0.06026564538478851|[0.06189434534987...| 0.07000591964823367|\n",
            "| 0.06080856919288635|[0.05537956718265...|-0.11877583028133239|\n",
            "| 0.06080856919288635|[0.05999421656132...| 0.06963056179789257|\n",
            "| 0.06080856919288635|[0.06080856919288...| 0.06821140292078309|\n",
            "| 0.06080856919288635|[0.06352369464437...| 0.06331038639396079|\n",
            "|0.061351463198661804|[0.06135146319866...| 0.06881577392068872|\n",
            "|0.061351463198661804|[0.06189436334486...| 0.07020028228236506|\n",
            "|0.061351463198661804|[0.06243726349106...| 0.06375705725852476|\n",
            "|0.061894360929727554|[0.06243726105474...| 0.07070021478084954|\n",
            "|0.062437284737825394|[0.06135148407593...|   0.072434584120266|\n",
            "|0.062437284737825394|[0.06243728473782...| 0.07218155252929595|\n",
            "| 0.06298015266656876|[0.06135145251167...| 0.07217161378606092|\n",
            "| 0.06298015266656876|[0.06243725261493...| 0.07227725866538408|\n",
            "| 0.06298015266656876|[0.06298015266656...| 0.07056350960078644|\n",
            "| 0.06352367997169495|[0.06352367997169...| 0.06949580881269973|\n",
            "| 0.06352367997169495|[0.06352367997169...| 0.07292418457916841|\n",
            "+--------------------+--------------------+--------------------+\n",
            "only showing top 20 rows\n",
            "\n"
          ]
        }
      ]
    },
    {
      "cell_type": "code",
      "source": [
        "precios_acciones(\"AAPL\")"
      ],
      "metadata": {
        "colab": {
          "base_uri": "https://localhost:8080/"
        },
        "id": "JrTQlgBtydHp",
        "outputId": "77918312-66d4-410d-d08b-f97af63ab64b"
      },
      "execution_count": null,
      "outputs": [
        {
          "output_type": "stream",
          "name": "stdout",
          "text": [
            "Vamos a realizar proyecciones sobre el precio de la acción de AAPL\n",
            "<class 'pandas.core.frame.DataFrame'>\n",
            "DatetimeIndex: 10592 entries, 1980-12-12 00:00:00-05:00 to 2022-12-14 00:00:00-05:00\n",
            "Data columns (total 7 columns):\n",
            " #   Column        Non-Null Count  Dtype  \n",
            "---  ------        --------------  -----  \n",
            " 0   Open          10592 non-null  float64\n",
            " 1   High          10592 non-null  float64\n",
            " 2   Low           10592 non-null  float64\n",
            " 3   Close         10592 non-null  float64\n",
            " 4   Volume        10592 non-null  int64  \n",
            " 5   Dividends     10592 non-null  float64\n",
            " 6   Stock Splits  10592 non-null  float64\n",
            "dtypes: float64(6), int64(1)\n",
            "memory usage: 920.0 KB\n",
            "Mean Squared Error (MSE) = 0.060\n",
            "Coefficient of Determination (R2) = 1.000\n",
            "+--------------------+--------------------+--------------------+\n",
            "|               Close|            features|          prediction|\n",
            "+--------------------+--------------------+--------------------+\n",
            "|0.039949383586645126|[0.03994938358664...| 0.04160244898750414|\n",
            "|0.039949383586645126|[0.04038359068367...| 0.04147682863919506|\n",
            "| 0.04168620705604553|[0.04212041410184...| 0.04312353703100247|\n",
            "| 0.04342380166053772|[0.04342380166053...| 0.04557658719735609|\n",
            "| 0.04385802149772644|[0.04429222856655...|0.045287148966678493|\n",
            "| 0.04429221898317337|[0.04429221898317...|0.046055608766243115|\n",
            "| 0.04516063258051872|[0.04559483955201...| 0.04669214284255378|\n",
            "|0.045594844967126846|[0.04559484496712...| 0.04749224918686912|\n",
            "|0.045594844967126846|[0.04602905199018...|  0.0469473751333452|\n",
            "| 0.04602904990315437|[0.04602904990315...|  0.0477984360114274|\n",
            "| 0.04602904990315437|[0.04602904990315...|  0.0478199292718552|\n",
            "|0.046463243663311005|[0.04646324366331...|  0.0481120463503711|\n",
            "|0.046463243663311005|[0.04646324366331...| 0.04818639410656788|\n",
            "| 0.04776585102081299|[0.04776585102081...|  0.0498611379418969|\n",
            "| 0.04906849563121796|[0.04950270552991...|0.050479317307836516|\n",
            "|0.049502693116664886|[0.04950269311666...| 0.05143688764354439|\n",
            "|0.049502693116664886|[0.04950269311666...|0.051582010180529686|\n",
            "|0.049502693116664886|[0.04993689710881...|  0.0508915425521242|\n",
            "|0.049502693116664886|[0.05037110689863...| 0.05094524285697579|\n",
            "|0.049936894327402115|[0.04993689432740...| 0.05159005459364569|\n",
            "+--------------------+--------------------+--------------------+\n",
            "only showing top 20 rows\n",
            "\n"
          ]
        }
      ]
    },
    {
      "cell_type": "code",
      "source": [
        "precios_acciones(\"NKE\")"
      ],
      "metadata": {
        "colab": {
          "base_uri": "https://localhost:8080/"
        },
        "id": "CvfyMLzvzH0g",
        "outputId": "facbf54b-80fb-4f24-e0ba-fc7fd1496208"
      },
      "execution_count": null,
      "outputs": [
        {
          "output_type": "stream",
          "name": "stdout",
          "text": [
            "Vamos a realizar proyecciones sobre el precio de la acción de NKE\n",
            "<class 'pandas.core.frame.DataFrame'>\n",
            "DatetimeIndex: 10600 entries, 1980-12-02 00:00:00-05:00 to 2022-12-14 00:00:00-05:00\n",
            "Data columns (total 7 columns):\n",
            " #   Column        Non-Null Count  Dtype  \n",
            "---  ------        --------------  -----  \n",
            " 0   Open          10600 non-null  float64\n",
            " 1   High          10600 non-null  float64\n",
            " 2   Low           10600 non-null  float64\n",
            " 3   Close         10600 non-null  float64\n",
            " 4   Volume        10600 non-null  int64  \n",
            " 5   Dividends     10600 non-null  float64\n",
            " 6   Stock Splits  10600 non-null  float64\n",
            "dtypes: float64(6), int64(1)\n",
            "memory usage: 920.5 KB\n",
            "Mean Squared Error (MSE) = 0.079\n",
            "Coefficient of Determination (R2) = 1.000\n",
            "+-------------------+--------------------+-------------------+\n",
            "|              Close|            features|         prediction|\n",
            "+-------------------+--------------------+-------------------+\n",
            "|0.07790081948041916|[0.07931710449456...|0.08162568720846017|\n",
            "|  0.079317107796669|[0.07790082272356...| 0.0825163720468303|\n",
            "|0.08073341101408005|[0.08214969640548...|0.08135527743178218|\n",
            "|0.08214970678091049|[0.08214970678091...|0.08666759868215923|\n",
            "|0.08214970678091049|[0.08356599775424...|0.08673912475827783|\n",
            "| 0.0849829837679863|[0.08356597458179...|0.08988969648450179|\n",
            "| 0.0849829837679863|[0.08498298376798...| 0.0871210713171121|\n",
            "|0.08639930933713913|[0.08356601364882...|0.08847303248916964|\n",
            "|0.08781558275222778|[0.08781558275222...|0.08887819488743826|\n",
            "|0.09064812958240509|[0.09064812958240...| 0.0931865886146342|\n",
            "|0.09064812958240509|[0.09206442015833...|0.09303584101040227|\n",
            "|0.09206442534923553|[0.09206442534923...|0.09303152353313349|\n",
            "|0.09206442534923553|[0.09206442534923...|0.09446896724114309|\n",
            "|0.09206442534923553|[0.09206442534923...|0.09459172914735976|\n",
            "|0.09206442534923553|[0.09489699585471...|0.09403601103544984|\n",
            "|0.09348069131374359|[0.09348069131374...|0.09684573321455443|\n",
            "|0.09348069131374359|[0.09348069131374...|0.09716000790830193|\n",
            "|0.09348069131374359|[0.09489698175916...|0.09348106757675402|\n",
            "|0.09489697217941284|[0.09206440238061...|  0.099815773091634|\n",
            "|0.09489697217941284|[0.09206440238061...| 0.1025407416014576|\n",
            "+-------------------+--------------------+-------------------+\n",
            "only showing top 20 rows\n",
            "\n"
          ]
        }
      ]
    },
    {
      "cell_type": "code",
      "source": [
        "precios_acciones(\"IBM\")"
      ],
      "metadata": {
        "id": "fKSYWV6Tzj_H",
        "colab": {
          "base_uri": "https://localhost:8080/"
        },
        "outputId": "fff49a2e-4fdc-478d-85e2-a56d1367fd9b"
      },
      "execution_count": null,
      "outputs": [
        {
          "output_type": "stream",
          "name": "stdout",
          "text": [
            "Vamos a realizar proyecciones sobre el precio de la acción de IBM\n",
            "<class 'pandas.core.frame.DataFrame'>\n",
            "DatetimeIndex: 15345 entries, 1962-01-02 00:00:00-05:00 to 2022-12-14 00:00:00-05:00\n",
            "Data columns (total 7 columns):\n",
            " #   Column        Non-Null Count  Dtype  \n",
            "---  ------        --------------  -----  \n",
            " 0   Open          15345 non-null  float64\n",
            " 1   High          15345 non-null  float64\n",
            " 2   Low           15345 non-null  float64\n",
            " 3   Close         15345 non-null  float64\n",
            " 4   Volume        15345 non-null  int64  \n",
            " 5   Dividends     15345 non-null  float64\n",
            " 6   Stock Splits  15345 non-null  float64\n",
            "dtypes: float64(6), int64(1)\n",
            "memory usage: 1.4 MB\n",
            "Mean Squared Error (MSE) = 0.098\n",
            "Coefficient of Determination (R2) = 1.000\n",
            "+------------------+--------------------+------------------+\n",
            "|             Close|            features|        prediction|\n",
            "+------------------+--------------------+------------------+\n",
            "|0.9017170667648315|[0.92527728237413...|0.9044140715438159|\n",
            "|0.9138545989990234|[0.94955202090352...| 0.934270130500596|\n",
            "| 0.936700701713562|[0.95954709155903...|0.9547340507602396|\n",
            "|0.9425976872444153|[0.97973038622357...|0.9484623864679232|\n",
            "|0.9570475220680237|[1.01380637688889...|0.9678082491906115|\n",
            "|0.9668768048286438|[0.97116149987582...|0.9522834323668303|\n",
            "|0.9797309637069702|[0.98508651412050...|0.9693464405299482|\n",
            "|0.9823932647705078|[0.95740506415037...|0.9855614208918236|\n",
            "|0.9954400062561035|[1.00079576587465...| 1.002873959241854|\n",
            "|0.9995272159576416|[0.96882741133028...|0.9877498876735723|\n",
            "|1.0002421140670776|[0.98524938053917...|0.9857239547318417|\n",
            "| 1.009722352027893|[1.00043909455795...|1.0111420913075668|\n",
            "|1.0168635845184326|[1.02578985903957...|1.0236656403869004|\n",
            "| 1.020432710647583|[1.00543682485675...|1.0318976268696842|\n",
            "| 1.021147608757019|[1.04828297390568...|1.0271791007843416|\n",
            "|1.0218615531921387|[0.99544037299757...|1.0098689679788415|\n",
            "| 1.025229573249817|[1.06021323351384...|1.0301512494851195|\n",
            "|1.0280853509902954|[1.08520133439203...|1.0377705752312807|\n",
            "|1.0373674631118774|[1.05949980389004...| 1.038723027661203|\n",
            "|1.0477893352508545|[1.06707377138341...|1.0538637338057188|\n",
            "+------------------+--------------------+------------------+\n",
            "only showing top 20 rows\n",
            "\n"
          ]
        }
      ]
    },
    {
      "cell_type": "code",
      "source": [
        "precios_acciones(\"TSLA\")"
      ],
      "metadata": {
        "colab": {
          "base_uri": "https://localhost:8080/"
        },
        "id": "_n0vklOh5hTz",
        "outputId": "c3820be4-9502-46d1-beec-01b23d9559b8"
      },
      "execution_count": null,
      "outputs": [
        {
          "output_type": "stream",
          "name": "stdout",
          "text": [
            "Vamos a realizar proyecciones sobre el precio de la acción de TSLA\n",
            "<class 'pandas.core.frame.DataFrame'>\n",
            "DatetimeIndex: 3139 entries, 2010-06-29 00:00:00-04:00 to 2022-12-14 00:00:00-05:00\n",
            "Data columns (total 7 columns):\n",
            " #   Column        Non-Null Count  Dtype  \n",
            "---  ------        --------------  -----  \n",
            " 0   Open          3139 non-null   float64\n",
            " 1   High          3139 non-null   float64\n",
            " 2   Low           3139 non-null   float64\n",
            " 3   Close         3139 non-null   float64\n",
            " 4   Volume        3139 non-null   int64  \n",
            " 5   Dividends     3139 non-null   int64  \n",
            " 6   Stock Splits  3139 non-null   float64\n",
            "dtypes: float64(5), int64(2)\n",
            "memory usage: 260.7 KB\n",
            "Mean Squared Error (MSE) = 7.899\n",
            "Coefficient of Determination (R2) = 0.999\n",
            "+------------------+--------------------+------------------+\n",
            "|             Close|            features|        prediction|\n",
            "+------------------+--------------------+------------------+\n",
            "|1.1733330488204956|[1.18666696548461...|1.1645063629466845|\n",
            "|1.2213330268859863|[1.21200001239776...| 1.190685311436579|\n",
            "|1.2513329982757568|[1.30599999427795...|1.2679144753427327|\n",
            "|1.2519999742507935|[1.23000001907348...|1.2170647001492727|\n",
            "|  1.25266695022583|[1.23599994182586...|1.2309841804330994|\n",
            "|1.2986669540405273|[1.31066703796386...| 1.288068266810345|\n",
            "|1.3133330345153809|[1.31666696071624...| 1.296739728409527|\n",
            "| 1.324666976928711|[1.31333303451538...|1.3071957567023724|\n",
            "| 1.340000033378601|[1.33000004291534...|1.3127279037272064|\n",
            "|1.3480000495910645|[1.37733304500579...|1.3444697701647985|\n",
            "| 1.348667025566101|[1.36800003051757...|1.3456430852294712|\n",
            "|1.3566670417785645|[1.38466703891754...|1.3540783788686614|\n",
            "|1.3606669902801514|[1.46666705608367...| 1.422655965478058|\n",
            "|1.3619999885559082|[1.37133300304412...|1.3493566345036265|\n",
            "|1.3639999628067017|[1.40400004386901...|1.3742475549441022|\n",
            "|1.3686670064926147|[1.36000001430511...|1.3443260485926336|\n",
            "| 1.369333028793335|[1.37600004673004...|1.3569805145745968|\n",
            "| 1.369333028793335|[1.39266705513000...|1.3608960652031539|\n",
            "|1.3733329772949219|[1.37933301925659...|1.3564421139310276|\n",
            "|1.3760000467300415|[1.37999999523162...|1.3747447150422998|\n",
            "+------------------+--------------------+------------------+\n",
            "only showing top 20 rows\n",
            "\n"
          ]
        }
      ]
    },
    {
      "cell_type": "code",
      "source": [],
      "metadata": {
        "id": "2hmBDzeS6U9u"
      },
      "execution_count": null,
      "outputs": []
    }
  ]
}